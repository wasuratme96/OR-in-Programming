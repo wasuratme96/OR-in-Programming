{
 "cells": [
  {
   "cell_type": "code",
   "execution_count": 30,
   "metadata": {},
   "outputs": [],
   "source": [
    "import pandas as pd\n",
    "import numpy as np\n",
    "import random\n",
    "import seaborn as sns"
   ]
  },
  {
   "cell_type": "code",
   "execution_count": 42,
   "metadata": {},
   "outputs": [],
   "source": [
    "# Single particles class\n",
    "class Particle:\n",
    "    def __init__(self, x0:list):\n",
    "        self.position_i = [] # Paritcle position\n",
    "        self.velocity_i = [] # Particle velocity\n",
    "        self.pos_best_i = [] # Best position of individual particle\n",
    "        self.err_best_i = -1 # Best error of individual (Starting at -1)\n",
    "        self.err_i = -1      # Error of individual\n",
    "\n",
    "        for i in range(0, num_dimensions):\n",
    "            self.velocity_i.append(random.uniform(-1, 1))\n",
    "            self.position_i.append(x0[i])\n",
    "\n",
    "    def evaluate(self, costFunc):\n",
    "        self.err_i = costFunc(self.position_i)\n",
    "\n",
    "        # Comparing current error with error at current best\n",
    "        if self.err_i < self.err_best_i or self.err_best_i == -1:\n",
    "            self.pos_best_i = self.position_i\n",
    "            self.err_best_i = self.err_i\n",
    "\n",
    "    def update_velocity(self, pos_best_g):\n",
    "        w_max = 0.9     # Max inertia weight\n",
    "        w_min = 0.2        # Min intertia weight\n",
    "        c1 = 1          # Cognitive weight (individual particle)\n",
    "        c2 = 2          # Social weight\n",
    "\n",
    "        for i in range(0, num_dimensions):\n",
    "            r1 = random.random()\n",
    "            r2 = random.random()\n",
    "\n",
    "            vel_cognitive = c1*r1*(self.pos_best_i[i] - self.position_i[i])\n",
    "            vel_social = c2*r2*(pos_best_g[i] - self.position_i[i])\n",
    "\n",
    "            self.velocity_i[i] = w*self.velocity_i[i] + vel_cognitive + vel_social\n",
    "    \n",
    "    def update_position(self, bounds):\n",
    "        for i in range(0, num_dimensions):\n",
    "            self.position_i[i] = self.position_i[i] + self.velocity_i[i]\n",
    "\n",
    "            # Check position with boundary in search space\n",
    "            # Upper bound, if exceed then assign maximum boundary\n",
    "            if self.position_i[i] > bounds[i][1]:\n",
    "                self.position_i[i] = bounds[i][1]\n",
    "\n",
    "            if self.position_i[i] < bounds[i][0]:\n",
    "                self.position_i[i] = bounds[i][0]\n",
    "\n",
    "\n",
    "# Swarm class\n",
    "class PSO():\n",
    "    def __init__(self, costFunc, x0:list, bounds:list, num_particles:int, max_iter:int):\n",
    "        self.max_iter = max_iter\n",
    "        self.num_particles = num_particles\n",
    "        self.bounds = bounds\n",
    "        self.costFunc = costFunc\n",
    "\n",
    "        global num_dimensions\n",
    "        num_dimensions = len(x0)\n",
    "\n",
    "        self.err_best_g = -1     # Initial best error for particles group\n",
    "        self.pos_best_g = []     # Collect best global best positions\n",
    "        \n",
    "        # Initiate swarm with particle base given num_particles\n",
    "        self.swarm = []\n",
    "        for i in range(0, num_particles):\n",
    "            self.swarm.append(Particle(x0))\n",
    "\n",
    "\n",
    "    def optimize(self):\n",
    "        # Iterate over max_iter rounds\n",
    "        i = 0\n",
    "        while i < self.max_iter:\n",
    "            # Perform optimize over swarm by looping all particles\n",
    "            for j in range(0, self.num_particles):\n",
    "                self.swarm[j].evaluate(self.costFunc)\n",
    "\n",
    "                if self.swarm[j].err_i < self.err_best_g or self.err_best_g == -1:\n",
    "                    pos_best_g = list(self.swarm[j].position_i)\n",
    "                    err_best_g = float(self.swarm[j].err_i)\n",
    "\n",
    "            for j in range(0, self.num_particles):\n",
    "                self.swarm[j].update_velocity(pos_best_g)\n",
    "                self.swarm[j].update_position(self.bounds)\n",
    "\n",
    "            i += 1\n",
    "\n",
    "        print(\"FINAL !\")\n",
    "        print(f\"Best position : {pos_best_g}\")\n",
    "        print(f\"Error at best position : {err_best_g}\")\n"
   ]
  },
  {
   "cell_type": "code",
   "execution_count": 51,
   "metadata": {},
   "outputs": [
    {
     "name": "stdout",
     "output_type": "stream",
     "text": [
      "FINAL !\n",
      "Best position : [5.015593809518533, 4.0866161080925405]\n",
      "Error at best position : 41.85661247700205\n"
     ]
    }
   ],
   "source": [
    "# Function that we are try to optimize (Maximize or Minimize)\n",
    "def target_function(x:list):\n",
    "    return sum([num**2 for num in x])\n",
    "\n",
    "initial = [5, 5]                    # Starting position\n",
    "bounds = [(-10, 10), (-10, 10)]     # Input boundary [(x1_min, x1_max), (x2_min, x2_max), ..]\n",
    "\n",
    "swarm_object = PSO(target_function, initial, bounds, num_particles=200, max_iter=1000)\n",
    "swarm_object.optimize()"
   ]
  },
  {
   "cell_type": "code",
   "execution_count": null,
   "metadata": {},
   "outputs": [],
   "source": []
  }
 ],
 "metadata": {
  "kernelspec": {
   "display_name": "Python 3.8.5",
   "language": "python",
   "name": "python3"
  },
  "language_info": {
   "codemirror_mode": {
    "name": "ipython",
    "version": 3
   },
   "file_extension": ".py",
   "mimetype": "text/x-python",
   "name": "python",
   "nbconvert_exporter": "python",
   "pygments_lexer": "ipython3",
   "version": "3.8.5"
  },
  "orig_nbformat": 4,
  "vscode": {
   "interpreter": {
    "hash": "40d3a090f54c6569ab1632332b64b2c03c39dcf918b08424e98f38b5ae0af88f"
   }
  }
 },
 "nbformat": 4,
 "nbformat_minor": 2
}
