{
 "cells": [
  {
   "cell_type": "code",
   "execution_count": 101,
   "metadata": {},
   "outputs": [],
   "source": [
    "from PSO import *"
   ]
  },
  {
   "cell_type": "code",
   "execution_count": 102,
   "metadata": {},
   "outputs": [
    {
     "name": "stdout",
     "output_type": "stream",
     "text": [
      "FINAL !\n",
      "Best position : [9.30574813929003, 0.992806223201214]\n",
      "Error at best position : 87.5826126287269\n"
     ]
    }
   ],
   "source": [
    "# Function that we are try to optimize (Maximize or Minimize)\n",
    "def weight_functiontarget_function(x:list):\n",
    "    return sum([num**2 for num in x])\n",
    "\n",
    "initial = [5, 5]                    # Starting position\n",
    "bounds = [(-10, 10), (-10, 10)]     # Input boundary [(x1_min, x1_max), (x2_min, x2_max), ..]\n",
    "\n",
    "swarm_object = PSO(target_function, initial, bounds, num_particles=200, max_iter=1000)\n",
    "swarm_object.optimize()"
   ]
  },
  {
   "cell_type": "code",
   "execution_count": 107,
   "metadata": {},
   "outputs": [
    {
     "name": "stdout",
     "output_type": "stream",
     "text": [
      "FINAL !\n",
      "Best position : [2.0, 2.0]\n",
      "Error at best position : 4.0\n"
     ]
    }
   ],
   "source": [
    "def weight_function(x:list):\n",
    "    return x[0] + x[1]\n",
    "\n",
    "initial = [0, 0]                    # Starting position\n",
    "bounds = [(2, 7), (2, 7)]     # Input boundary [(x1_min, x1_max), (x2_min, x2_max), ..]\n",
    "\n",
    "swarm_object = PSO(weight_function, initial, bounds, num_particles=2, max_iter=1000)\n",
    "swarm_object.optimize()"
   ]
  },
  {
   "cell_type": "code",
   "execution_count": null,
   "metadata": {},
   "outputs": [],
   "source": []
  }
 ],
 "metadata": {
  "kernelspec": {
   "display_name": "Python 3.8.5",
   "language": "python",
   "name": "python3"
  },
  "language_info": {
   "codemirror_mode": {
    "name": "ipython",
    "version": 3
   },
   "file_extension": ".py",
   "mimetype": "text/x-python",
   "name": "python",
   "nbconvert_exporter": "python",
   "pygments_lexer": "ipython3",
   "version": "3.8.5"
  },
  "orig_nbformat": 4,
  "vscode": {
   "interpreter": {
    "hash": "40d3a090f54c6569ab1632332b64b2c03c39dcf918b08424e98f38b5ae0af88f"
   }
  }
 },
 "nbformat": 4,
 "nbformat_minor": 2
}
